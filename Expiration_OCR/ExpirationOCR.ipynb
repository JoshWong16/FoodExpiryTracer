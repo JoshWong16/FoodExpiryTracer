{
  "nbformat": 4,
  "nbformat_minor": 0,
  "metadata": {
    "colab": {
      "name": "ExpirationOCR.ipynb",
      "provenance": [],
      "collapsed_sections": []
    },
    "kernelspec": {
      "name": "python3",
      "display_name": "Python 3"
    },
    "language_info": {
      "name": "python"
    }
  },
  "cells": [
    {
      "cell_type": "code",
      "metadata": {
        "id": "dc22cdp04zwR"
      },
      "source": [
        "!sudo apt-get update\n",
        "!sudo apt-get install tesseract-ocr"
      ],
      "execution_count": null,
      "outputs": []
    },
    {
      "cell_type": "code",
      "metadata": {
        "id": "LUwMDrWv6Jwb"
      },
      "source": [
        "pip install pytesseract"
      ],
      "execution_count": null,
      "outputs": []
    },
    {
      "cell_type": "code",
      "metadata": {
        "id": "jFyH-XvJ6Lwz"
      },
      "source": [
        "pip install pillow"
      ],
      "execution_count": null,
      "outputs": []
    },
    {
      "cell_type": "code",
      "metadata": {
        "id": "bfG-hYyC5x3j"
      },
      "source": [
        "pip install dateparser"
      ],
      "execution_count": null,
      "outputs": []
    },
    {
      "cell_type": "code",
      "metadata": {
        "id": "sqPTuVWYP4fX"
      },
      "source": [
        "pip install deskew"
      ],
      "execution_count": null,
      "outputs": []
    },
    {
      "cell_type": "code",
      "metadata": {
        "id": "lUku6tT-48Ix"
      },
      "source": [
        "import pytesseract\n",
        "import math\n",
        "from typing import Tuple, Union\n",
        "from deskew import determine_skew\n",
        "import cv2\n",
        "import dateparser\n",
        "from dateparser.search import search_dates\n",
        "import matplotlib.pyplot as plt\n",
        "import numpy as np\n",
        "import os"
      ],
      "execution_count": 157,
      "outputs": []
    },
    {
      "cell_type": "code",
      "metadata": {
        "id": "baVGbe71X7Dc"
      },
      "source": [
        "name = \"25AUG2015\""
      ],
      "execution_count": 220,
      "outputs": []
    },
    {
      "cell_type": "code",
      "metadata": {
        "id": "Eeqff9X5d3Fm"
      },
      "source": [
        "os.mkdir(name)"
      ],
      "execution_count": 178,
      "outputs": []
    },
    {
      "cell_type": "code",
      "metadata": {
        "id": "FO0iVBZo5iMN"
      },
      "source": [
        "dir = name + \".jpg\""
      ],
      "execution_count": 221,
      "outputs": []
    },
    {
      "cell_type": "markdown",
      "metadata": {
        "id": "rGhXpnLmSZNn"
      },
      "source": [
        "# Rotates the image so texts are aligned\n"
      ]
    },
    {
      "cell_type": "code",
      "metadata": {
        "id": "HJoM9HbHNLyN"
      },
      "source": [
        "def rotate(\n",
        "        image: np.ndarray, angle: float, background: Union[int, Tuple[int, int, int]]\n",
        ") -> np.ndarray:\n",
        "    old_width, old_height = image.shape[:2]\n",
        "    angle_radian = math.radians(angle)\n",
        "    width = abs(np.sin(angle_radian) * old_height) + abs(np.cos(angle_radian) * old_width)\n",
        "    height = abs(np.sin(angle_radian) * old_width) + abs(np.cos(angle_radian) * old_height)\n",
        "\n",
        "    image_center = tuple(np.array(image.shape[1::-1]) / 2)\n",
        "    rot_mat = cv2.getRotationMatrix2D(image_center, angle, 1.0)\n",
        "    rot_mat[1, 2] += (width - old_width) / 2\n",
        "    rot_mat[0, 2] += (height - old_height) / 2\n",
        "    return cv2.warpAffine(image, rot_mat, (int(round(height)), int(round(width))), borderValue=background)\n",
        "\n",
        "image = cv2.imread(dir)\n",
        "grayscale = cv2.cvtColor(image, cv2.COLOR_BGR2GRAY)\n",
        "angle = determine_skew(grayscale)\n",
        "rotated = rotate(image, angle, (0, 0, 0))\n",
        "cv2.imwrite(name + '/' + 'deskew.png', rotated)\n",
        "img = rotated"
      ],
      "execution_count": 222,
      "outputs": []
    },
    {
      "cell_type": "markdown",
      "metadata": {
        "id": "0UwiIeGtSiAS"
      },
      "source": [
        "# Binarize Image"
      ]
    },
    {
      "cell_type": "code",
      "metadata": {
        "id": "ZUtbIF9aQqPI"
      },
      "source": [
        "im_gray = cv2.cvtColor(img, cv2.COLOR_BGR2GRAY)\n",
        "th, im_Binarize = cv2.threshold(im_gray, 128, 192, cv2.THRESH_OTSU)\n",
        "cv2.imwrite(name + '/' + 'binarized.png', im_Binarize)\n",
        "img = im_Binarize"
      ],
      "execution_count": 223,
      "outputs": []
    },
    {
      "cell_type": "markdown",
      "metadata": {
        "id": "6nhVgh8lTtDz"
      },
      "source": [
        "# Morphological Transformations"
      ]
    },
    {
      "cell_type": "markdown",
      "metadata": {
        "id": "btrP0S2cUydX"
      },
      "source": [
        "Erossion"
      ]
    },
    {
      "cell_type": "code",
      "metadata": {
        "id": "ahMKqCCOWefp"
      },
      "source": [
        "kernel = np.ones((5,5),np.uint8)"
      ],
      "execution_count": 224,
      "outputs": []
    },
    {
      "cell_type": "code",
      "metadata": {
        "colab": {
          "base_uri": "https://localhost:8080/"
        },
        "id": "EmQye0p2Twd3",
        "outputId": "6dcb8846-ff57-4333-9677-cd4dc049289c"
      },
      "source": [
        "erosion = cv2.erode(dilation,kernel,iterations = 1)\n",
        "cv2.imwrite(name + '/' + 'erosion.png', erosion)"
      ],
      "execution_count": 225,
      "outputs": [
        {
          "output_type": "execute_result",
          "data": {
            "text/plain": [
              "True"
            ]
          },
          "metadata": {
            "tags": []
          },
          "execution_count": 225
        }
      ]
    },
    {
      "cell_type": "markdown",
      "metadata": {
        "id": "d8oXW0deU0GP"
      },
      "source": [
        "Dilation"
      ]
    },
    {
      "cell_type": "code",
      "metadata": {
        "colab": {
          "base_uri": "https://localhost:8080/"
        },
        "id": "60puHE28U3iO",
        "outputId": "c381ae4f-f08a-4990-e177-16e5be1bf62f"
      },
      "source": [
        "dilation = cv2.dilate(img,kernel,iterations = 1)\n",
        "cv2.imwrite(name + '/' + 'dilation.png', dilation)"
      ],
      "execution_count": 226,
      "outputs": [
        {
          "output_type": "execute_result",
          "data": {
            "text/plain": [
              "True"
            ]
          },
          "metadata": {
            "tags": []
          },
          "execution_count": 226
        }
      ]
    },
    {
      "cell_type": "markdown",
      "metadata": {
        "id": "vLxlf9QlVssv"
      },
      "source": [
        "Opening/ Errosion-Dilation"
      ]
    },
    {
      "cell_type": "code",
      "metadata": {
        "colab": {
          "base_uri": "https://localhost:8080/"
        },
        "id": "1x2CaMjAVtok",
        "outputId": "03e121f4-f271-4655-c3e6-8416c0a396d1"
      },
      "source": [
        "opening = cv2.morphologyEx(img, cv2.MORPH_OPEN, kernel)\n",
        "cv2.imwrite(name + '/' + 'opening.png', opening)"
      ],
      "execution_count": 227,
      "outputs": [
        {
          "output_type": "execute_result",
          "data": {
            "text/plain": [
              "True"
            ]
          },
          "metadata": {
            "tags": []
          },
          "execution_count": 227
        }
      ]
    },
    {
      "cell_type": "markdown",
      "metadata": {
        "id": "6iTOczeKWdxK"
      },
      "source": [
        "Closing/ Dilation-Erosion"
      ]
    },
    {
      "cell_type": "code",
      "metadata": {
        "colab": {
          "base_uri": "https://localhost:8080/"
        },
        "id": "Knw7GfnsWpUF",
        "outputId": "4177e059-03b6-4eda-95e4-addee82c0e8a"
      },
      "source": [
        "closing = cv2.morphologyEx(img, cv2.MORPH_CLOSE, kernel)\n",
        "cv2.imwrite(name + '/' + 'closing.png', closing)"
      ],
      "execution_count": 228,
      "outputs": [
        {
          "output_type": "execute_result",
          "data": {
            "text/plain": [
              "True"
            ]
          },
          "metadata": {
            "tags": []
          },
          "execution_count": 228
        }
      ]
    },
    {
      "cell_type": "markdown",
      "metadata": {
        "id": "bc6aD1fFensX"
      },
      "source": [
        "Selected transformation"
      ]
    },
    {
      "cell_type": "code",
      "metadata": {
        "id": "AZut9oJjW7NB"
      },
      "source": [
        "img = opening"
      ],
      "execution_count": 231,
      "outputs": []
    },
    {
      "cell_type": "markdown",
      "metadata": {
        "id": "_S694y0FSyGD"
      },
      "source": [
        "# Date Extraction"
      ]
    },
    {
      "cell_type": "code",
      "metadata": {
        "colab": {
          "base_uri": "https://localhost:8080/"
        },
        "id": "pcGf7Ec8e4a3",
        "outputId": "1b6e3dc7-8469-4fe5-a3b4-69c9fef85bc8"
      },
      "source": [
        "cv2.imwrite(name + '/' + 'final.png', img)"
      ],
      "execution_count": 232,
      "outputs": [
        {
          "output_type": "execute_result",
          "data": {
            "text/plain": [
              "True"
            ]
          },
          "metadata": {
            "tags": []
          },
          "execution_count": 232
        }
      ]
    },
    {
      "cell_type": "code",
      "metadata": {
        "id": "fBOSWw-ZMMqD"
      },
      "source": [
        "string = pytesseract.image_to_string(img)\n",
        "print(string)"
      ],
      "execution_count": null,
      "outputs": []
    },
    {
      "cell_type": "code",
      "metadata": {
        "colab": {
          "base_uri": "https://localhost:8080/"
        },
        "id": "FOL-WMuXQ-ir",
        "outputId": "0202f84a-952f-4894-8a15-1a11980e46f4"
      },
      "source": [
        "search_dates(string)"
      ],
      "execution_count": 208,
      "outputs": [
        {
          "output_type": "execute_result",
          "data": {
            "text/plain": [
              "[('15APR2016', datetime.datetime(2016, 4, 15, 0, 0))]"
            ]
          },
          "metadata": {
            "tags": []
          },
          "execution_count": 208
        }
      ]
    },
    {
      "cell_type": "code",
      "metadata": {
        "colab": {
          "base_uri": "https://localhost:8080/"
        },
        "id": "mu2j6JPKaUys",
        "outputId": "9f6d3731-0e84-4656-c8a3-71c8c6708cb9"
      },
      "source": [
        "# Desired Output\n",
        "search_dates('Expire: 15APR2016 bla bla bla')"
      ],
      "execution_count": 195,
      "outputs": [
        {
          "output_type": "execute_result",
          "data": {
            "text/plain": [
              "[('15APR2016', datetime.datetime(2016, 4, 15, 0, 0))]"
            ]
          },
          "metadata": {
            "tags": []
          },
          "execution_count": 195
        }
      ]
    },
    {
      "cell_type": "code",
      "metadata": {
        "colab": {
          "base_uri": "https://localhost:8080/"
        },
        "id": "9q4iLbCA5Wom",
        "outputId": "e1344efd-883b-480b-aaa3-97eac2028f8d"
      },
      "source": [
        "!zip -r /content/25AUG2015.zip /content/25AUG2015/"
      ],
      "execution_count": 234,
      "outputs": [
        {
          "output_type": "stream",
          "text": [
            "  adding: content/25AUG2015/ (stored 0%)\n",
            "  adding: content/25AUG2015/deskew.png (deflated 2%)\n",
            "  adding: content/25AUG2015/erosion.png (deflated 24%)\n",
            "  adding: content/25AUG2015/dilation.png (deflated 23%)\n",
            "  adding: content/25AUG2015/opening.png (deflated 23%)\n",
            "  adding: content/25AUG2015/binarized.png (deflated 18%)\n",
            "  adding: content/25AUG2015/final.png (deflated 23%)\n",
            "  adding: content/25AUG2015/closing.png (deflated 26%)\n"
          ],
          "name": "stdout"
        }
      ]
    },
    {
      "cell_type": "markdown",
      "metadata": {
        "id": "ggZXMN04f0s9"
      },
      "source": [
        "# Pre-Modified Extraction"
      ]
    },
    {
      "cell_type": "code",
      "metadata": {
        "id": "EKs2DDHrgigi"
      },
      "source": [
        "name = '25AUG2015'"
      ],
      "execution_count": 199,
      "outputs": []
    },
    {
      "cell_type": "code",
      "metadata": {
        "id": "21SQvEb5fuiM"
      },
      "source": [
        "preImg = cv2.imread(name + '/' + 'final.png')"
      ],
      "execution_count": 200,
      "outputs": []
    },
    {
      "cell_type": "code",
      "metadata": {
        "id": "YYcYp5C4gT5E"
      },
      "source": [
        "string = pytesseract.image_to_string(preImg)\n",
        "print(string)\n",
        "li = search_dates(string)"
      ],
      "execution_count": null,
      "outputs": []
    }
  ]
}